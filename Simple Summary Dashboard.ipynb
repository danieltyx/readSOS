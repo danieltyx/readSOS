{
 "cells": [
  {
   "cell_type": "code",
   "execution_count": 2,
   "metadata": {},
   "outputs": [],
   "source": [
    "import sumy\n",
    "import sumy.summarizers\n",
    "from sumy.parsers.plaintext import PlaintextParser\n",
    "from sumy.nlp.tokenizers import Tokenizer\n",
    "from sumy.summarizers.lex_rank import LexRankSummarizer\n",
    "\n",
    "\n",
    "import nltk\n",
    "# nltk.download('punkt')\n",
    "\n",
    "import sumy\n",
    "\n",
    "from sumy.parsers.plaintext import PlaintextParser\n",
    "from sumy.nlp.tokenizers import Tokenizer\n",
    "from sumy.summarizers.lex_rank import LexRankSummarizer"
   ]
  },
  {
   "cell_type": "code",
   "execution_count": 17,
   "metadata": {},
   "outputs": [
    {
     "name": "stdout",
     "output_type": "stream",
     "text": [
      "Dash is running on http://127.0.0.1:8050/\n",
      "\n",
      "Dash is running on http://127.0.0.1:8050/\n",
      "\n",
      "Dash is running on http://127.0.0.1:8050/\n",
      "\n",
      "Dash is running on http://127.0.0.1:8050/\n",
      "\n",
      "Dash is running on http://127.0.0.1:8050/\n",
      "\n",
      "Dash is running on http://127.0.0.1:8050/\n",
      "\n",
      "Dash is running on http://127.0.0.1:8050/\n",
      "\n",
      " * Serving Flask app \"__main__\" (lazy loading)\n",
      " * Environment: production\n",
      "\u001b[31m   WARNING: This is a development server. Do not use it in a production deployment.\u001b[0m\n",
      "\u001b[2m   Use a production WSGI server instead.\u001b[0m\n",
      " * Debug mode: off\n"
     ]
    },
    {
     "name": "stderr",
     "output_type": "stream",
     "text": [
      " * Running on http://127.0.0.1:8050/ (Press CTRL+C to quit)\n",
      "127.0.0.1 - - [22/Jul/2021 18:16:52] \"\u001b[37mGET / HTTP/1.1\u001b[0m\" 200 -\n",
      "127.0.0.1 - - [22/Jul/2021 18:16:52] \"\u001b[37mGET /_dash-dependencies HTTP/1.1\u001b[0m\" 200 -\n",
      "127.0.0.1 - - [22/Jul/2021 18:16:52] \"\u001b[37mGET /_dash-layout HTTP/1.1\u001b[0m\" 200 -\n",
      "127.0.0.1 - - [22/Jul/2021 18:16:52] \"\u001b[37mPOST /_dash-update-component HTTP/1.1\u001b[0m\" 200 -\n"
     ]
    },
    {
     "name": "stdout",
     "output_type": "stream",
     "text": [
      " None\n"
     ]
    },
    {
     "name": "stderr",
     "output_type": "stream",
     "text": [
      "127.0.0.1 - - [22/Jul/2021 18:16:56] \"\u001b[37mPOST /_dash-update-component HTTP/1.1\u001b[0m\" 200 -\n"
     ]
    },
    {
     "name": "stdout",
     "output_type": "stream",
     "text": [
      "\n"
     ]
    },
    {
     "name": "stderr",
     "output_type": "stream",
     "text": [
      "127.0.0.1 - - [22/Jul/2021 18:17:00] \"\u001b[37mPOST /_dash-update-component HTTP/1.1\u001b[0m\" 200 -\n"
     ]
    },
    {
     "name": "stdout",
     "output_type": "stream",
     "text": [
      " Artists producing art and engraving on United States banknotes began experimenting with copper plates as an alternative to wood engraving in the early 18th century. Applied to the production of paper currency, copper-plate engraving, and later steel engraving, enabled banknote design and printing to rapidly advance during the 19th century.\n"
     ]
    }
   ],
   "source": [
    "import dash  # (version 1.11.0)\n",
    "import dash_bootstrap_components as dbc\n",
    "import dash_core_components as dcc\n",
    "import dash_html_components as html\n",
    "import pandas as pd\n",
    "import plotly.express as px     # (version 4.6.0)\n",
    "from dash.dependencies import Input, Output\n",
    "\n",
    "app = dash.Dash(__name__)\n",
    "\n",
    "# ------------------------------------------------------------------------\n",
    "# Import and filter data into pandas data frame\n",
    "\n",
    "# ------------------------------------------------------------------------\n",
    "\n",
    "x = \"text\"\n",
    "\n",
    "CARD_TEXT_STYLE = {\n",
    "    'textAlign': 'center',\n",
    "    'color': '#0074D9'\n",
    "}\n",
    "\n",
    "app.layout = html.Div([\n",
    "    html.Div([\n",
    "        dcc.Input(\n",
    "            id='my_{}'.format(x),\n",
    "            type=x,\n",
    "            placeholder=\"insert {}\".format(x),  # A hint to the user of what can be entered in the control\n",
    "            debounce=True,                      # Changes to input are sent to Dash server only on enter or losing focus\n",
    "            disabled=False,                     # Disable input box\n",
    "            readOnly=False,                     # Make input box read only\n",
    "            required=False,                     # Require user to insert something into input box\n",
    "            size=\"20\",                          # Number of characters that will be visible inside box\n",
    "            # style={'':''}                     # Define styles for dropdown (Dropdown video: 13:05)\n",
    "            # className='',                     # Define style from separate CSS document (Dropdown video: 13:05)\n",
    "            # persistence='',                   # Stores user's dropdown changes in memory (Dropdown video: 16:20)\n",
    "            # persistence_type='',              # Stores user's dropdown changes in memory (Dropdown video: 16:20)\n",
    "        ), html.Br(),\n",
    "        dcc.Textarea(\n",
    "            id='corr_desc',\n",
    "#             value='Textarea content initialized\\nwith multiple lines of text',\n",
    "            style={'width': '100%', 'height': 300},\n",
    "        ),\n",
    "\n",
    "    ]),\n",
    "\n",
    "    html.Br(),\n",
    "    \n",
    "    \n",
    "#     dbc.Row([\n",
    "#     dbc.Col(\n",
    "        \n",
    "#         dbc.Card(\n",
    "#             [\n",
    "\n",
    "#                 dbc.CardBody(\n",
    "#                     [\n",
    "# #                         html.H4(id='card_title_1', children=['Card Title 1'], className='card-title',\n",
    "# #                                 style=CARD_TEXT_STYLE),\n",
    "#                         html.P(id='corr_desc', style=CARD_TEXT_STYLE),\n",
    "#                     ]\n",
    "#                 )\n",
    "#             ]\n",
    "#         ),\n",
    "#         md=3\n",
    "#     ),\n",
    "# #     dbc.Col(\n",
    "# #         dbc.Card(\n",
    "# #             [\n",
    "\n",
    "# #                 dbc.CardBody(\n",
    "# #                     [\n",
    "# #                         html.H4('Card Title 2', className='card-title', style=CARD_TEXT_STYLE),\n",
    "# #                         html.P('Sample text.', style=CARD_TEXT_STYLE),\n",
    "# #                     ]\n",
    "# #                 ),\n",
    "# #             ]\n",
    "\n",
    "# #         ),\n",
    "# #         md=3\n",
    "# #     ),\n",
    "    \n",
    "# ])\n",
    "\n",
    "    \n",
    "\n",
    "])\n",
    "\n",
    "# ------------------------------------------------------------------------\n",
    "@app.callback(\n",
    "    \n",
    "     Output('corr_desc', 'value'),\n",
    "    [Input(component_id='my_{}'.format(x), component_property='value')\n",
    "     ],\n",
    ")\n",
    "def update_graph(txt_state):\n",
    "    my_parser = PlaintextParser.from_string(txt_state,Tokenizer('english'))\n",
    "    # Creating a summary of 3 sentences.\n",
    "    lex_rank_summarizer = LexRankSummarizer()\n",
    "    lexrank_summary = lex_rank_summarizer(my_parser.document,sentences_count=2)\n",
    "    # Printing the summary\n",
    "    ans = \"\"\n",
    "    for sentence in lexrank_summary:\n",
    "        ans += \" \"+str(sentence)\n",
    "    print(ans)\n",
    "    return ans\n",
    "\n",
    "# ------------------------------------------------------------------------\n",
    "if __name__ == '__main__':\n",
    "    app.run_server(debug=False)\n",
    "\n",
    "\n",
    "\n"
   ]
  },
  {
   "cell_type": "code",
   "execution_count": null,
   "metadata": {},
   "outputs": [],
   "source": []
  }
 ],
 "metadata": {
  "kernelspec": {
   "display_name": "Python 3",
   "language": "python",
   "name": "python3"
  },
  "language_info": {
   "codemirror_mode": {
    "name": "ipython",
    "version": 3
   },
   "file_extension": ".py",
   "mimetype": "text/x-python",
   "name": "python",
   "nbconvert_exporter": "python",
   "pygments_lexer": "ipython3",
   "version": "3.8.5"
  }
 },
 "nbformat": 4,
 "nbformat_minor": 4
}
